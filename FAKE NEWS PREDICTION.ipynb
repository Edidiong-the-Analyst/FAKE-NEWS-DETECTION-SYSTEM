{
 "cells": [
  {
   "cell_type": "markdown",
   "id": "0f43e8c5",
   "metadata": {},
   "source": [
    "# Fake News Detection\n",
    "\n",
    "Fake news detection involves identifying and verifying the accuracy of news articles, recent online social media content, etc. that is intentionally false or misleading. In recent years, due to the booming developments of online social networks, fake news for various commercial and political purposes has been appearing in large numbers and widespread in the online world. With deceptive words, online social network users can get infected by these online fake news easily, which has brought about tremendous effects on the offline society already.\n",
    "\n",
    "So, it is important to detect fake and real news. One common method to do this is using natural language processing (NLP) techniques to analyze the language used in the article and identify patterns that are associated with fake news.\n",
    "\n"
   ]
  },
  {
   "cell_type": "markdown",
   "id": "b79517c1",
   "metadata": {},
   "source": [
    "## Importing Libraries"
   ]
  },
  {
   "cell_type": "code",
   "execution_count": 66,
   "id": "216af962",
   "metadata": {},
   "outputs": [],
   "source": [
    "# data processing and transformation libraries\n",
    "from collections import Counter\n",
    "from nltk.tokenize import word_tokenize\n",
    "import numpy as np\n",
    "import pandas as pd\n",
    "from sklearn.feature_extraction.text import TfidfVectorizer\n",
    "from sklearn.model_selection import train_test_split\n",
    "from sklearn.model_selection import GridSearchCV\n",
    "from nltk.stem import WordNetLemmatizer\n",
    "\n",
    "\n",
    "# ML Algorithms\n",
    "import lightgbm as lgb\n",
    "from sklearn.neighbors import KNeighborsClassifier\n",
    "from sklearn.ensemble import RandomForestClassifier\n",
    "from sklearn.svm import SVC\n",
    "from sklearn.linear_model import LogisticRegression\n",
    "from sklearn.tree import DecisionTreeClassifier\n",
    "\n",
    "# evaluation libraries\n",
    "from sklearn.metrics import accuracy_score,f1_score, precision_score,recall_score\n",
    "from sklearn.metrics import confusion_matrix\n",
    "from sklearn.metrics import classification_report\n",
    "\n",
    "# Visualization library\n",
    "import matplotlib.pyplot as plt\n",
    "import seaborn as sns\n",
    "from mlxtend.plotting import plot_confusion_matrix\n",
    "\n",
    "#To avoid warnings\n",
    "import warnings\n",
    "warnings.filterwarnings('ignore')"
   ]
  },
  {
   "cell_type": "markdown",
   "id": "7eeb9879",
   "metadata": {},
   "source": [
    "## Loading data\n",
    "\n",
    "We have a csv file named news in which there is a column named label which has two values REAL and FAKE for real news and fake news. This dataset has a shape of 6335×4."
   ]
  },
  {
   "cell_type": "code",
   "execution_count": 145,
   "id": "c64e475e",
   "metadata": {},
   "outputs": [
    {
     "data": {
      "text/html": [
       "<div>\n",
       "<style scoped>\n",
       "    .dataframe tbody tr th:only-of-type {\n",
       "        vertical-align: middle;\n",
       "    }\n",
       "\n",
       "    .dataframe tbody tr th {\n",
       "        vertical-align: top;\n",
       "    }\n",
       "\n",
       "    .dataframe thead th {\n",
       "        text-align: right;\n",
       "    }\n",
       "</style>\n",
       "<table border=\"1\" class=\"dataframe\">\n",
       "  <thead>\n",
       "    <tr style=\"text-align: right;\">\n",
       "      <th></th>\n",
       "      <th>Unnamed: 0</th>\n",
       "      <th>title</th>\n",
       "      <th>text</th>\n",
       "      <th>label</th>\n",
       "    </tr>\n",
       "  </thead>\n",
       "  <tbody>\n",
       "    <tr>\n",
       "      <th>0</th>\n",
       "      <td>8476</td>\n",
       "      <td>You Can Smell Hillary’s Fear</td>\n",
       "      <td>Daniel Greenfield, a Shillman Journalism Fello...</td>\n",
       "      <td>FAKE</td>\n",
       "    </tr>\n",
       "    <tr>\n",
       "      <th>1</th>\n",
       "      <td>10294</td>\n",
       "      <td>Watch The Exact Moment Paul Ryan Committed Pol...</td>\n",
       "      <td>Google Pinterest Digg Linkedin Reddit Stumbleu...</td>\n",
       "      <td>FAKE</td>\n",
       "    </tr>\n",
       "    <tr>\n",
       "      <th>2</th>\n",
       "      <td>3608</td>\n",
       "      <td>Kerry to go to Paris in gesture of sympathy</td>\n",
       "      <td>U.S. Secretary of State John F. Kerry said Mon...</td>\n",
       "      <td>REAL</td>\n",
       "    </tr>\n",
       "    <tr>\n",
       "      <th>3</th>\n",
       "      <td>10142</td>\n",
       "      <td>Bernie supporters on Twitter erupt in anger ag...</td>\n",
       "      <td>— Kaydee King (@KaydeeKing) November 9, 2016 T...</td>\n",
       "      <td>FAKE</td>\n",
       "    </tr>\n",
       "    <tr>\n",
       "      <th>4</th>\n",
       "      <td>875</td>\n",
       "      <td>The Battle of New York: Why This Primary Matters</td>\n",
       "      <td>It's primary day in New York and front-runners...</td>\n",
       "      <td>REAL</td>\n",
       "    </tr>\n",
       "  </tbody>\n",
       "</table>\n",
       "</div>"
      ],
      "text/plain": [
       "   Unnamed: 0                                              title  \\\n",
       "0        8476                       You Can Smell Hillary’s Fear   \n",
       "1       10294  Watch The Exact Moment Paul Ryan Committed Pol...   \n",
       "2        3608        Kerry to go to Paris in gesture of sympathy   \n",
       "3       10142  Bernie supporters on Twitter erupt in anger ag...   \n",
       "4         875   The Battle of New York: Why This Primary Matters   \n",
       "\n",
       "                                                text label  \n",
       "0  Daniel Greenfield, a Shillman Journalism Fello...  FAKE  \n",
       "1  Google Pinterest Digg Linkedin Reddit Stumbleu...  FAKE  \n",
       "2  U.S. Secretary of State John F. Kerry said Mon...  REAL  \n",
       "3  — Kaydee King (@KaydeeKing) November 9, 2016 T...  FAKE  \n",
       "4  It's primary day in New York and front-runners...  REAL  "
      ]
     },
     "execution_count": 145,
     "metadata": {},
     "output_type": "execute_result"
    }
   ],
   "source": [
    "news=pd.read_csv(r'fake_or_real_news.csv')\n",
    "news.head()"
   ]
  },
  {
   "cell_type": "code",
   "execution_count": 146,
   "id": "51ef9e74",
   "metadata": {},
   "outputs": [],
   "source": [
    "# Replacing the unnamed column with 'Id'\n",
    "news = news.rename(columns = {'Unnamed: 0': 'Id'})     \n"
   ]
  },
  {
   "cell_type": "markdown",
   "id": "9eaf971b",
   "metadata": {},
   "source": [
    "#### Overview of dataset"
   ]
  },
  {
   "cell_type": "code",
   "execution_count": 4,
   "id": "3b25a673",
   "metadata": {
    "scrolled": false
   },
   "outputs": [
    {
     "name": "stdout",
     "output_type": "stream",
     "text": [
      "<class 'pandas.core.frame.DataFrame'>\n",
      "RangeIndex: 6335 entries, 0 to 6334\n",
      "Data columns (total 4 columns):\n",
      " #   Column  Non-Null Count  Dtype \n",
      "---  ------  --------------  ----- \n",
      " 0   Id      6335 non-null   int64 \n",
      " 1   title   6335 non-null   object\n",
      " 2   text    6335 non-null   object\n",
      " 3   label   6335 non-null   object\n",
      "dtypes: int64(1), object(3)\n",
      "memory usage: 198.1+ KB\n"
     ]
    }
   ],
   "source": [
    "news.info()"
   ]
  },
  {
   "cell_type": "code",
   "execution_count": 181,
   "id": "55dd1753",
   "metadata": {},
   "outputs": [
    {
     "data": {
      "text/plain": [
       "Id       0\n",
       "title    0\n",
       "text     0\n",
       "label    0\n",
       "dtype: int64"
      ]
     },
     "execution_count": 181,
     "metadata": {},
     "output_type": "execute_result"
    }
   ],
   "source": [
    "news.isna().sum()"
   ]
  },
  {
   "cell_type": "code",
   "execution_count": 148,
   "id": "76166657",
   "metadata": {
    "scrolled": true
   },
   "outputs": [
    {
     "data": {
      "text/plain": [
       "(6335, 4)"
      ]
     },
     "execution_count": 148,
     "metadata": {},
     "output_type": "execute_result"
    }
   ],
   "source": [
    "# Dimensionality \n",
    "news.shape"
   ]
  },
  {
   "cell_type": "code",
   "execution_count": 149,
   "id": "b2e5dffc",
   "metadata": {
    "scrolled": true
   },
   "outputs": [
    {
     "data": {
      "text/plain": [
       "Counter({'FAKE': 3164, 'REAL': 3171})"
      ]
     },
     "execution_count": 149,
     "metadata": {},
     "output_type": "execute_result"
    }
   ],
   "source": [
    "# Counting the number of REAL and FAKE values\n",
    "Counter(news['label'])    "
   ]
  },
  {
   "cell_type": "markdown",
   "id": "8a82c055",
   "metadata": {},
   "source": [
    "### Data Visualization"
   ]
  },
  {
   "cell_type": "code",
   "execution_count": 7,
   "id": "78b0aa58",
   "metadata": {},
   "outputs": [
    {
     "data": {
      "image/png": "[encoded data removed]",
      "text/plain": [
       "<Figure size 720x360 with 1 Axes>"
      ]
     },
     "metadata": {},
     "output_type": "display_data"
    }
   ],
   "source": [
    "# Visualize the label coulmn\n",
    "\n",
    "plt.figure(figsize =(10,5))\n",
    "news['label'].value_counts(normalize=True).plot.pie(autopct=\"%.2f\")\n",
    "plt.title(\"Label Distribution\");"
   ]
  },
  {
   "cell_type": "markdown",
   "id": "93c02290",
   "metadata": {},
   "source": [
    "There is an even distribution of observations among the Label, hence, the dataset is Balanced."
   ]
  },
  {
   "cell_type": "code",
   "execution_count": 8,
   "id": "e3b6154c",
   "metadata": {},
   "outputs": [
    {
     "data": {
      "image/png": "[encoded data removed]",
      "text/plain": [
       "<Figure size 1080x576 with 2 Axes>"
      ]
     },
     "metadata": {
      "needs_background": "light"
     },
     "output_type": "display_data"
    }
   ],
   "source": [
    "fig, (ax1,ax2)=plt.subplots(1,2,figsize=(15,8))\n",
    "fig.suptitle('Characters in News Title',fontsize=20)\n",
    "news_len=news[news['label']=='REAL']['title'].str.len()\n",
    "ax1.hist(news_len,color='orange',linewidth=2,edgecolor='black')\n",
    "ax1.set_title('REAL news',fontsize=15)\n",
    "news_len=news[news['label']=='FAKE']['title'].str.len()\n",
    "ax2.hist(news_len,linewidth=2,edgecolor='black')\n",
    "ax2.set_title('Fake news',fontsize=15);"
   ]
  },
  {
   "cell_type": "markdown",
   "id": "5d2cde57",
   "metadata": {},
   "source": [
    "Characters in News Title with length 60 are more in the 'Real' news Label, and Title length between 50 and 100 are more in the 'Fake' news Label. Statistically, this is a Right-Skewed or Positive-Skewed distribution (Mean > Median > Mode)"
   ]
  },
  {
   "cell_type": "code",
   "execution_count": 151,
   "id": "95229943",
   "metadata": {},
   "outputs": [
    {
     "data": {
      "image/png": "[encoded data removed]",
      "text/plain": [
       "<Figure size 1080x576 with 2 Axes>"
      ]
     },
     "metadata": {
      "needs_background": "light"
     },
     "output_type": "display_data"
    }
   ],
   "source": [
    "fig, (ax1,ax2)=plt.subplots(1,2,figsize=(15,8))\n",
    "fig.suptitle('Characters in News Text',fontsize=20)\n",
    "news_len=news[news['label']=='REAL']['text'].str.len()\n",
    "ax1.hist(news_len,color='orange',linewidth=2,edgecolor='black')\n",
    "ax1.set_title('REAL news',fontsize=15)\n",
    "news_len=news[news['label']=='FAKE']['text'].str.len()\n",
    "ax2.hist(news_len,linewidth=2,edgecolor='black')\n",
    "ax2.set_title('Fake news',fontsize=15);"
   ]
  },
  {
   "cell_type": "markdown",
   "id": "f8fecdbf",
   "metadata": {},
   "source": [
    "Characters in News Text with length between 0 and 5000 are more in the 'Real' news Label, and Text length between 0 and 10000 are more in the 'Fake' news Label. Statistically, this is a Right-Skewed or Positive-Skewed distribution (Mean > Median > Mode)\n"
   ]
  },
  {
   "cell_type": "markdown",
   "id": "08998dd0",
   "metadata": {},
   "source": [
    "A Fake News cannot be deduced or detected or presumed by just the Text or Title Character Length"
   ]
  },
  {
   "cell_type": "code",
   "execution_count": null,
   "id": "e9b62c1f",
   "metadata": {
    "scrolled": false
   },
   "outputs": [],
   "source": []
  },
  {
   "cell_type": "code",
   "execution_count": 158,
   "id": "9ddaf2ab",
   "metadata": {},
   "outputs": [
    {
     "name": "stdout",
     "output_type": "stream",
     "text": [
      "Average Text Length for Real:  5292\n",
      "Average Text Length for Fake:  4121\n"
     ]
    }
   ],
   "source": [
    "# Average of Characters in News Text\n",
    "\n",
    "mean_text_real = round(news[news['label']=='REAL']['text'].str.len().mean())\n",
    "mean_text_fake = round(news[news['label']=='FAKE']['text'].str.len().mean())\n",
    "\n",
    "print(\"Average Text Length for Real: \", mean_text_real)\n",
    "print(\"Average Text Length for Fake: \", mean_text_fake)\n",
    "\n"
   ]
  },
  {
   "cell_type": "code",
   "execution_count": 170,
   "id": "b35b2b8a",
   "metadata": {},
   "outputs": [
    {
     "name": "stdout",
     "output_type": "stream",
     "text": [
      "Average Title Length for Real:  61\n",
      "Average Title Length for Fake:  69\n"
     ]
    }
   ],
   "source": [
    "# Average of Characters in News Title\n",
    "\n",
    "mean_title_real = round(news[news['label']=='REAL']['title'].str.len().mean())\n",
    "mean_title_fake = round(news[news['label']=='FAKE']['title'].str.len().mean())\n",
    "\n",
    "print(\"Average Title Length for Real: \", mean_title_real)\n",
    "print(\"Average Title Length for Fake: \", mean_title_fake)\n"
   ]
  },
  {
   "cell_type": "code",
   "execution_count": 180,
   "id": "0fa94cae",
   "metadata": {},
   "outputs": [
    {
     "data": {
      "image/png": "[encoded data removed]",
      "text/plain": [
       "<Figure size 576x288 with 1 Axes>"
      ]
     },
     "metadata": {
      "needs_background": "light"
     },
     "output_type": "display_data"
    }
   ],
   "source": [
    "# Create a df for the character text and title mean of the labels for visualization\n",
    "df = [['Text', 'Real', 5292],['Text', 'Fake', 4121],['Title', 'Real', 61],['Title', 'Fake', 69]]\n",
    "\n",
    "df_plt = pd.DataFrame(df, columns=['Section','Label', 'Average'])\n",
    "\n",
    "\n",
    "# Visualization\n",
    "fig, ax1 = plt.subplots(figsize = (8,4))\n",
    "plt.ticklabel_format(style='plain')\n",
    "viz = sns.barplot(ax =ax1, x='Section', y= 'Average', hue= 'Label', data = df_plt)\n",
    "viz.set_xticklabels(viz.get_xticklabels(), rotation=90)\n",
    "for i in viz.patches:\n",
    "    height = i.get_height()\n",
    "    viz.text(i.get_x() + i.get_width()/2., height + 0.1, height, ha=\"center\")\n",
    "plt.title(\"Mean of Character Text and Title by Label\")\n",
    "plt.xlabel(\"News Section\")\n",
    "plt.ylabel(\"Average\")\n",
    "plt.show();\n"
   ]
  },
  {
   "cell_type": "code",
   "execution_count": 184,
   "id": "03dc0b78",
   "metadata": {},
   "outputs": [
    {
     "data": {
      "image/png": "[encoded data removed]",
      "text/plain": [
       "<Figure size 1080x576 with 2 Axes>"
      ]
     },
     "metadata": {
      "needs_background": "light"
     },
     "output_type": "display_data"
    }
   ],
   "source": [
    "fig, (ax1,ax2)=plt.subplots(1,2,figsize=(15,8))\n",
    "fig.suptitle('Correlation between News Text and Title',fontsize=20)\n",
    "news_lenRTl=news[news['label']=='REAL']['title'].str.len()\n",
    "news_lenRTx=news[news['label']=='REAL']['text'].str.len()\n",
    "ax1.scatter(x=news_lenRTx,y =news_lenRTl, color='orange',linewidth=2,edgecolor='black')\n",
    "ax1.set_title('REAL news',fontsize=15)\n",
    "ax1.set_xlabel(\"Text\", fontsize=13)\n",
    "ax1.set_ylabel(\"Title\", fontsize=13)\n",
    "news_lenFTl=news[news['label']=='FAKE']['title'].str.len()\n",
    "news_lenFTx=news[news['label']=='FAKE']['text'].str.len()\n",
    "ax2.scatter(x = news_lenFTx, y=news_lenFTl, linewidth=2,edgecolor='black')\n",
    "ax2.set_title('Fake news',fontsize=15)\n",
    "ax2.set_xlabel(\"Text\", fontsize=13)\n",
    "ax1.set_ylabel(\"Title\", fontsize=13);"
   ]
  },
  {
   "cell_type": "markdown",
   "id": "d5e7c0a8",
   "metadata": {},
   "source": [
    "There is no distinct relationship between Text and Title in both Labels, though it is observed that majority of the data are between: Real news labels - Text length of 0 - 10000 with Title length of 20 - 100; Fake news labels - Text length of 0 - 10900 with Title length of 0 - 150;"
   ]
  },
  {
   "cell_type": "markdown",
   "id": "989e1b52",
   "metadata": {},
   "source": [
    "### Splitting data \n",
    "\n",
    "Splitting the data into training and testing data."
   ]
  },
  {
   "cell_type": "code",
   "execution_count": 10,
   "id": "62ca25f3",
   "metadata": {},
   "outputs": [
    {
     "name": "stdout",
     "output_type": "stream",
     "text": [
      "(5068,)\n",
      "(1267,)\n",
      "(5068,)\n",
      "(1267,)\n"
     ]
    }
   ],
   "source": [
    "\n",
    "x_train,x_test,y_train,y_test=train_test_split(news['text'],news['label'],test_size=0.2)\n",
    "print(x_train.shape)\n",
    "print(x_test.shape)\n",
    "print(y_train.shape)\n",
    "print(y_test.shape)\n"
   ]
  },
  {
   "cell_type": "code",
   "execution_count": null,
   "id": "f3079479",
   "metadata": {},
   "outputs": [],
   "source": []
  },
  {
   "cell_type": "markdown",
   "id": "cbd05466",
   "metadata": {},
   "source": [
    "### TF-IDFVectorizer\n",
    "The TF-IDFVectorizer converts a collection of raw documents into a matrix of TF-IDF features.\n",
    "##### TF (Term Frequency): \n",
    "The number of times a word appears in a document is its Term Frequency. A higher value means a term appears more often than others, and so, the document is a good match when the term is part of the search terms.\n",
    "\n",
    "##### IDF (Inverse Document Frequency): \n",
    "Words that occur many times a document, but also occur many times in many others, may be irrelevant. IDF is a measure of how significant a term is in the entire corpus."
   ]
  },
  {
   "cell_type": "code",
   "execution_count": 11,
   "id": "2acd7ae3",
   "metadata": {},
   "outputs": [
    {
     "name": "stdout",
     "output_type": "stream",
     "text": [
      "(1267, 61186)\n",
      "(5068, 61186)\n"
     ]
    }
   ],
   "source": [
    "tfidf=TfidfVectorizer(stop_words='english',max_df=0.8)\n",
    "x_train=tfidf.fit_transform(x_train)\n",
    "x_test=tfidf.transform(x_test)\n",
    "print(x_test.shape)\n",
    "print(x_train.shape)"
   ]
  },
  {
   "cell_type": "code",
   "execution_count": null,
   "id": "b1b5ca4d",
   "metadata": {},
   "outputs": [],
   "source": []
  },
  {
   "cell_type": "markdown",
   "id": "292eaf5c",
   "metadata": {},
   "source": [
    "# 3. Model Building"
   ]
  },
  {
   "cell_type": "markdown",
   "id": "413dce2a",
   "metadata": {},
   "source": [
    "\n",
    "We have to build a model to accurately classify a piece of news as REAL or FAKE.\n",
    "\n",
    "Using six models Light Gradient Boosting, Decision Tree, K-NN, RandomForestClassifier, SVC, LogisticRegression  to compare the accuracy of these models. It will help to find which model fits the data and predict real and fake news accurately.\n",
    "\n",
    "Also cross validation will be done using the GridSearchCV "
   ]
  },
  {
   "cell_type": "code",
   "execution_count": null,
   "id": "7fec08cb",
   "metadata": {},
   "outputs": [],
   "source": []
  },
  {
   "cell_type": "markdown",
   "id": "4f4fd6e3",
   "metadata": {},
   "source": [
    "## 3.1. Logistic Regression"
   ]
  },
  {
   "cell_type": "code",
   "execution_count": 12,
   "id": "ba3887c0",
   "metadata": {},
   "outputs": [],
   "source": [
    "from sklearn.linear_model import LogisticRegression\n"
   ]
  },
  {
   "cell_type": "code",
   "execution_count": 13,
   "id": "eafbc876",
   "metadata": {},
   "outputs": [],
   "source": [
    "params_LR = {'C' : [10, 5, 1,0.7, 0.5,0.3]}\n",
    "\n",
    "# C = 0.5 gives the best result after Grid Search.\n",
    "\n"
   ]
  },
  {
   "cell_type": "code",
   "execution_count": 14,
   "id": "ff2bef85",
   "metadata": {},
   "outputs": [],
   "source": [
    "clf_LR = GridSearchCV(estimator = LogisticRegression(class_weight = 'balanced', random_state = 6),param_grid = params_LR, \n",
    "                      cv = 3, refit = True, scoring = 'accuracy', n_jobs = 4)"
   ]
  },
  {
   "cell_type": "code",
   "execution_count": 15,
   "id": "a048f55f",
   "metadata": {},
   "outputs": [
    {
     "data": {
      "text/plain": [
       "GridSearchCV(cv=3,\n",
       "             estimator=LogisticRegression(class_weight='balanced',\n",
       "                                          random_state=6),\n",
       "             n_jobs=4, param_grid={'C': [10, 5, 1, 0.7, 0.5, 0.3]},\n",
       "             scoring='accuracy')"
      ]
     },
     "execution_count": 15,
     "metadata": {},
     "output_type": "execute_result"
    }
   ],
   "source": [
    "clf_LR.fit(x_train,y_train)"
   ]
  },
  {
   "cell_type": "code",
   "execution_count": 16,
   "id": "7396f9da",
   "metadata": {},
   "outputs": [
    {
     "data": {
      "text/plain": [
       "0.9281772181758519"
      ]
     },
     "execution_count": 16,
     "metadata": {},
     "output_type": "execute_result"
    }
   ],
   "source": [
    "clf_LR.best_score_"
   ]
  },
  {
   "cell_type": "code",
   "execution_count": 17,
   "id": "6ac5d644",
   "metadata": {},
   "outputs": [
    {
     "data": {
      "text/plain": [
       "{'C': 10}"
      ]
     },
     "execution_count": 17,
     "metadata": {},
     "output_type": "execute_result"
    }
   ],
   "source": [
    "clf_LR.best_params_"
   ]
  },
  {
   "cell_type": "code",
   "execution_count": 18,
   "id": "4726aed0",
   "metadata": {},
   "outputs": [],
   "source": [
    "pred_LR = clf_LR.predict(x_test)"
   ]
  },
  {
   "cell_type": "code",
   "execution_count": 19,
   "id": "2e42ad1f",
   "metadata": {},
   "outputs": [
    {
     "data": {
      "image/png": "[encoded data removed]",
      "text/plain": [
       "<Figure size 432x288 with 2 Axes>"
      ]
     },
     "metadata": {
      "needs_background": "light"
     },
     "output_type": "display_data"
    }
   ],
   "source": [
    "cm_LR = confusion_matrix(y_test,pred_LR, labels = ['FAKE', 'REAL'])\n",
    "sns.heatmap(cm_LR/ np.sum(cm_LR),fmt='.2%', annot=True, cmap = 'Blues', xticklabels = ['FAKE', 'REAL'], yticklabels = ['FAKE', 'REAL']);\n"
   ]
  },
  {
   "cell_type": "code",
   "execution_count": 20,
   "id": "2d4e7db9",
   "metadata": {},
   "outputs": [
    {
     "data": {
      "text/html": [
       "<div>\n",
       "<style scoped>\n",
       "    .dataframe tbody tr th:only-of-type {\n",
       "        vertical-align: middle;\n",
       "    }\n",
       "\n",
       "    .dataframe tbody tr th {\n",
       "        vertical-align: top;\n",
       "    }\n",
       "\n",
       "    .dataframe thead th {\n",
       "        text-align: right;\n",
       "    }\n",
       "</style>\n",
       "<table border=\"1\" class=\"dataframe\">\n",
       "  <thead>\n",
       "    <tr style=\"text-align: right;\">\n",
       "      <th></th>\n",
       "      <th>precision</th>\n",
       "      <th>recall</th>\n",
       "      <th>f1-score</th>\n",
       "      <th>support</th>\n",
       "    </tr>\n",
       "  </thead>\n",
       "  <tbody>\n",
       "    <tr>\n",
       "      <th>FAKE</th>\n",
       "      <td>0.935285</td>\n",
       "      <td>0.948438</td>\n",
       "      <td>0.941815</td>\n",
       "      <td>640.000000</td>\n",
       "    </tr>\n",
       "    <tr>\n",
       "      <th>REAL</th>\n",
       "      <td>0.946602</td>\n",
       "      <td>0.933014</td>\n",
       "      <td>0.939759</td>\n",
       "      <td>627.000000</td>\n",
       "    </tr>\n",
       "    <tr>\n",
       "      <th>accuracy</th>\n",
       "      <td>0.940805</td>\n",
       "      <td>0.940805</td>\n",
       "      <td>0.940805</td>\n",
       "      <td>0.940805</td>\n",
       "    </tr>\n",
       "    <tr>\n",
       "      <th>macro avg</th>\n",
       "      <td>0.940943</td>\n",
       "      <td>0.940726</td>\n",
       "      <td>0.940787</td>\n",
       "      <td>1267.000000</td>\n",
       "    </tr>\n",
       "    <tr>\n",
       "      <th>weighted avg</th>\n",
       "      <td>0.940885</td>\n",
       "      <td>0.940805</td>\n",
       "      <td>0.940798</td>\n",
       "      <td>1267.000000</td>\n",
       "    </tr>\n",
       "  </tbody>\n",
       "</table>\n",
       "</div>"
      ],
      "text/plain": [
       "              precision    recall  f1-score      support\n",
       "FAKE           0.935285  0.948438  0.941815   640.000000\n",
       "REAL           0.946602  0.933014  0.939759   627.000000\n",
       "accuracy       0.940805  0.940805  0.940805     0.940805\n",
       "macro avg      0.940943  0.940726  0.940787  1267.000000\n",
       "weighted avg   0.940885  0.940805  0.940798  1267.000000"
      ]
     },
     "execution_count": 20,
     "metadata": {},
     "output_type": "execute_result"
    }
   ],
   "source": [
    "\n",
    "report_LR = classification_report(y_test,pred_LR, labels = ['FAKE','REAL'], output_dict = True)\n",
    "report_LR = pd.DataFrame(report_LR).transpose()\n",
    "report_LR"
   ]
  },
  {
   "cell_type": "markdown",
   "id": "4ae6d75c",
   "metadata": {},
   "source": [
    "## 3.2. K-Nearest Neighbor Method"
   ]
  },
  {
   "cell_type": "code",
   "execution_count": 21,
   "id": "b2e985ab",
   "metadata": {},
   "outputs": [],
   "source": [
    "# Here we are iteratively doing grid search with different hyperparameters in an informed manner.\n",
    "# params_knn = {'n_neighbors' : [2, 4, 8, 16] } # We obtain 4 as the best hyperparameter.\n",
    "params_knn = {'n_neighbors' : [3,4,5,6,7] }     # 5 is the final tuned hyperparameter."
   ]
  },
  {
   "cell_type": "code",
   "execution_count": 22,
   "id": "49c2c045",
   "metadata": {},
   "outputs": [],
   "source": [
    "clf_knn = GridSearchCV(estimator = KNeighborsClassifier(algorithm = 'ball_tree'), param_grid = params_knn, \n",
    "                       scoring = 'accuracy', n_jobs = 4, cv = 3, refit = True, verbose = 3)"
   ]
  },
  {
   "cell_type": "code",
   "execution_count": 23,
   "id": "d7f74b04",
   "metadata": {},
   "outputs": [
    {
     "name": "stdout",
     "output_type": "stream",
     "text": [
      "Fitting 3 folds for each of 5 candidates, totalling 15 fits\n"
     ]
    },
    {
     "data": {
      "text/plain": [
       "GridSearchCV(cv=3, estimator=KNeighborsClassifier(algorithm='ball_tree'),\n",
       "             n_jobs=4, param_grid={'n_neighbors': [3, 4, 5, 6, 7]},\n",
       "             scoring='accuracy', verbose=3)"
      ]
     },
     "execution_count": 23,
     "metadata": {},
     "output_type": "execute_result"
    }
   ],
   "source": [
    "clf_knn.fit(x_train,y_train)"
   ]
  },
  {
   "cell_type": "code",
   "execution_count": 24,
   "id": "8f8a6189",
   "metadata": {},
   "outputs": [
    {
     "data": {
      "text/plain": [
       "0.5706392330931203"
      ]
     },
     "execution_count": 24,
     "metadata": {},
     "output_type": "execute_result"
    }
   ],
   "source": [
    "clf_knn.best_score_"
   ]
  },
  {
   "cell_type": "code",
   "execution_count": 25,
   "id": "5456284d",
   "metadata": {},
   "outputs": [
    {
     "data": {
      "text/plain": [
       "{'n_neighbors': 3}"
      ]
     },
     "execution_count": 25,
     "metadata": {},
     "output_type": "execute_result"
    }
   ],
   "source": [
    "clf_knn.best_params_"
   ]
  },
  {
   "cell_type": "code",
   "execution_count": 26,
   "id": "b6e05096",
   "metadata": {},
   "outputs": [],
   "source": [
    "pred_knn = clf_knn.predict(x_test)"
   ]
  },
  {
   "cell_type": "code",
   "execution_count": 27,
   "id": "66937ec7",
   "metadata": {},
   "outputs": [
    {
     "data": {
      "image/png": "[encoded data removed]",
      "text/plain": [
       "<Figure size 432x288 with 2 Axes>"
      ]
     },
     "metadata": {
      "needs_background": "light"
     },
     "output_type": "display_data"
    }
   ],
   "source": [
    "cm_knn = confusion_matrix(y_test,pred_knn, labels = ['FAKE', 'REAL'])\n",
    "sns.heatmap(cm_knn/ np.sum(cm_knn),fmt='.2%', annot=True, cmap = 'Blues', xticklabels = ['FAKE', 'REAL'], yticklabels = ['FAKE', 'REAL']);\n"
   ]
  },
  {
   "cell_type": "code",
   "execution_count": 29,
   "id": "599ee9ea",
   "metadata": {},
   "outputs": [
    {
     "data": {
      "text/html": [
       "<div>\n",
       "<style scoped>\n",
       "    .dataframe tbody tr th:only-of-type {\n",
       "        vertical-align: middle;\n",
       "    }\n",
       "\n",
       "    .dataframe tbody tr th {\n",
       "        vertical-align: top;\n",
       "    }\n",
       "\n",
       "    .dataframe thead th {\n",
       "        text-align: right;\n",
       "    }\n",
       "</style>\n",
       "<table border=\"1\" class=\"dataframe\">\n",
       "  <thead>\n",
       "    <tr style=\"text-align: right;\">\n",
       "      <th></th>\n",
       "      <th>precision</th>\n",
       "      <th>recall</th>\n",
       "      <th>f1-score</th>\n",
       "      <th>support</th>\n",
       "    </tr>\n",
       "  </thead>\n",
       "  <tbody>\n",
       "    <tr>\n",
       "      <th>FAKE</th>\n",
       "      <td>0.562500</td>\n",
       "      <td>0.998437</td>\n",
       "      <td>0.719595</td>\n",
       "      <td>640.000000</td>\n",
       "    </tr>\n",
       "    <tr>\n",
       "      <th>REAL</th>\n",
       "      <td>0.992366</td>\n",
       "      <td>0.207337</td>\n",
       "      <td>0.343008</td>\n",
       "      <td>627.000000</td>\n",
       "    </tr>\n",
       "    <tr>\n",
       "      <th>accuracy</th>\n",
       "      <td>0.606946</td>\n",
       "      <td>0.606946</td>\n",
       "      <td>0.606946</td>\n",
       "      <td>0.606946</td>\n",
       "    </tr>\n",
       "    <tr>\n",
       "      <th>macro avg</th>\n",
       "      <td>0.777433</td>\n",
       "      <td>0.602887</td>\n",
       "      <td>0.531301</td>\n",
       "      <td>1267.000000</td>\n",
       "    </tr>\n",
       "    <tr>\n",
       "      <th>weighted avg</th>\n",
       "      <td>0.775228</td>\n",
       "      <td>0.606946</td>\n",
       "      <td>0.533233</td>\n",
       "      <td>1267.000000</td>\n",
       "    </tr>\n",
       "  </tbody>\n",
       "</table>\n",
       "</div>"
      ],
      "text/plain": [
       "              precision    recall  f1-score      support\n",
       "FAKE           0.562500  0.998437  0.719595   640.000000\n",
       "REAL           0.992366  0.207337  0.343008   627.000000\n",
       "accuracy       0.606946  0.606946  0.606946     0.606946\n",
       "macro avg      0.777433  0.602887  0.531301  1267.000000\n",
       "weighted avg   0.775228  0.606946  0.533233  1267.000000"
      ]
     },
     "execution_count": 29,
     "metadata": {},
     "output_type": "execute_result"
    }
   ],
   "source": [
    "\n",
    "report_knn = classification_report(y_test,pred_knn, labels = ['FAKE','REAL'], output_dict = True)\n",
    "report_knn = pd.DataFrame(report_knn).transpose()\n",
    "report_knn"
   ]
  },
  {
   "cell_type": "markdown",
   "id": "25643ab3",
   "metadata": {},
   "source": [
    "## 3.3. Support Vector Machine Classifier"
   ]
  },
  {
   "cell_type": "code",
   "execution_count": 30,
   "id": "81966233",
   "metadata": {},
   "outputs": [],
   "source": [
    "# Here we are iteratively doing grid search with different hyperparameters in an informed manner.\n",
    "# params_svc = {'kernel' : ['linear', 'poly', 'rbf', 'sigmoid'], 'C' : [0.1, 1, 50]} # 'rbf' and 50 give the best combination\n",
    "# params_svc = {'kernel' : ['rbf', 'sigmoid'], 'C' : [10, 30, 50,100]}  # 100 and 'rbf' give the best combination.\n",
    "params_svc = {'kernel' : ['rbf', 'sigmoid'], 'C' : [100, 150, 200]}   # 100 and 'rbf' give the best combination."
   ]
  },
  {
   "cell_type": "code",
   "execution_count": 31,
   "id": "777fc6b3",
   "metadata": {},
   "outputs": [],
   "source": [
    "clf_svc = GridSearchCV(estimator = SVC(class_weight = 'balanced', random_state = 6), param_grid = params_svc, \n",
    "                       scoring = 'accuracy', n_jobs = 4, cv = 3, refit = True, verbose = 2)"
   ]
  },
  {
   "cell_type": "code",
   "execution_count": 32,
   "id": "af91b7a1",
   "metadata": {},
   "outputs": [
    {
     "name": "stdout",
     "output_type": "stream",
     "text": [
      "Fitting 3 folds for each of 6 candidates, totalling 18 fits\n"
     ]
    },
    {
     "data": {
      "text/plain": [
       "GridSearchCV(cv=3, estimator=SVC(class_weight='balanced', random_state=6),\n",
       "             n_jobs=4,\n",
       "             param_grid={'C': [100, 150, 200], 'kernel': ['rbf', 'sigmoid']},\n",
       "             scoring='accuracy', verbose=2)"
      ]
     },
     "execution_count": 32,
     "metadata": {},
     "output_type": "execute_result"
    }
   ],
   "source": [
    "clf_svc.fit(x_train, y_train)"
   ]
  },
  {
   "cell_type": "code",
   "execution_count": 33,
   "id": "37854778",
   "metadata": {},
   "outputs": [
    {
     "data": {
      "text/plain": [
       "{'C': 100, 'kernel': 'rbf'}"
      ]
     },
     "execution_count": 33,
     "metadata": {},
     "output_type": "execute_result"
    }
   ],
   "source": [
    "clf_svc.best_params_"
   ]
  },
  {
   "cell_type": "code",
   "execution_count": 34,
   "id": "3b1b31e5",
   "metadata": {},
   "outputs": [
    {
     "data": {
      "text/plain": [
       "0.9262035470260638"
      ]
     },
     "execution_count": 34,
     "metadata": {},
     "output_type": "execute_result"
    }
   ],
   "source": [
    "clf_svc.best_score_"
   ]
  },
  {
   "cell_type": "code",
   "execution_count": 35,
   "id": "5996fe0a",
   "metadata": {},
   "outputs": [],
   "source": [
    "pred_svc = clf_svc.predict(x_test)"
   ]
  },
  {
   "cell_type": "code",
   "execution_count": 36,
   "id": "4fb74a61",
   "metadata": {},
   "outputs": [
    {
     "data": {
      "image/png": "[encoded data removed]",
      "text/plain": [
       "<Figure size 432x288 with 2 Axes>"
      ]
     },
     "metadata": {
      "needs_background": "light"
     },
     "output_type": "display_data"
    }
   ],
   "source": [
    "cm_svc = confusion_matrix(y_test, pred_svc, labels = ['FAKE', 'REAL'])\n",
    "sns.heatmap(cm_svc/ np.sum(cm_svc),fmt='.2%', annot=True, cmap = 'Blues', xticklabels = ['FAKE', 'REAL'], yticklabels = ['FAKE', 'REAL']);\n"
   ]
  },
  {
   "cell_type": "code",
   "execution_count": 38,
   "id": "2509a825",
   "metadata": {},
   "outputs": [
    {
     "data": {
      "text/html": [
       "<div>\n",
       "<style scoped>\n",
       "    .dataframe tbody tr th:only-of-type {\n",
       "        vertical-align: middle;\n",
       "    }\n",
       "\n",
       "    .dataframe tbody tr th {\n",
       "        vertical-align: top;\n",
       "    }\n",
       "\n",
       "    .dataframe thead th {\n",
       "        text-align: right;\n",
       "    }\n",
       "</style>\n",
       "<table border=\"1\" class=\"dataframe\">\n",
       "  <thead>\n",
       "    <tr style=\"text-align: right;\">\n",
       "      <th></th>\n",
       "      <th>precision</th>\n",
       "      <th>recall</th>\n",
       "      <th>f1-score</th>\n",
       "      <th>support</th>\n",
       "    </tr>\n",
       "  </thead>\n",
       "  <tbody>\n",
       "    <tr>\n",
       "      <th>FAKE</th>\n",
       "      <td>0.936728</td>\n",
       "      <td>0.948438</td>\n",
       "      <td>0.942547</td>\n",
       "      <td>640.000000</td>\n",
       "    </tr>\n",
       "    <tr>\n",
       "      <th>REAL</th>\n",
       "      <td>0.946688</td>\n",
       "      <td>0.934609</td>\n",
       "      <td>0.940610</td>\n",
       "      <td>627.000000</td>\n",
       "    </tr>\n",
       "    <tr>\n",
       "      <th>accuracy</th>\n",
       "      <td>0.941594</td>\n",
       "      <td>0.941594</td>\n",
       "      <td>0.941594</td>\n",
       "      <td>0.941594</td>\n",
       "    </tr>\n",
       "    <tr>\n",
       "      <th>macro avg</th>\n",
       "      <td>0.941708</td>\n",
       "      <td>0.941523</td>\n",
       "      <td>0.941578</td>\n",
       "      <td>1267.000000</td>\n",
       "    </tr>\n",
       "    <tr>\n",
       "      <th>weighted avg</th>\n",
       "      <td>0.941657</td>\n",
       "      <td>0.941594</td>\n",
       "      <td>0.941588</td>\n",
       "      <td>1267.000000</td>\n",
       "    </tr>\n",
       "  </tbody>\n",
       "</table>\n",
       "</div>"
      ],
      "text/plain": [
       "              precision    recall  f1-score      support\n",
       "FAKE           0.936728  0.948438  0.942547   640.000000\n",
       "REAL           0.946688  0.934609  0.940610   627.000000\n",
       "accuracy       0.941594  0.941594  0.941594     0.941594\n",
       "macro avg      0.941708  0.941523  0.941578  1267.000000\n",
       "weighted avg   0.941657  0.941594  0.941588  1267.000000"
      ]
     },
     "execution_count": 38,
     "metadata": {},
     "output_type": "execute_result"
    }
   ],
   "source": [
    "\n",
    "report_svc = classification_report(y_test, pred_svc, labels = ['FAKE','REAL'], output_dict = True)\n",
    "report_svc = pd.DataFrame(report_svc).transpose()\n",
    "report_svc"
   ]
  },
  {
   "cell_type": "markdown",
   "id": "c97afedf",
   "metadata": {},
   "source": [
    "## 3.4. Decision Tree Classifier"
   ]
  },
  {
   "cell_type": "code",
   "execution_count": 39,
   "id": "cee40ba5",
   "metadata": {},
   "outputs": [],
   "source": [
    "params_dt = {'criterion' : ['entropy'], 'min_samples_split' : [2, 4, 8, 16, 32], \n",
    "             'min_samples_leaf' : [1,2,4,8],'max_depth' : [4, 7, 10], 'max_features' : ['sqrt', None],  'class_weight' : ['balanced']}\n",
    "\n",
    "# (max_depth = 7, min_samples_leaf = 4, min_samples_split = 32, max_features = None) give the best result."
   ]
  },
  {
   "cell_type": "code",
   "execution_count": 40,
   "id": "c2fcc26f",
   "metadata": {},
   "outputs": [],
   "source": [
    "clf_dt = GridSearchCV(estimator = DecisionTreeClassifier(random_state = 7), param_grid = params_dt, \n",
    "                      scoring = 'accuracy', n_jobs = 4, cv = 3, refit = True, verbose = 3)"
   ]
  },
  {
   "cell_type": "code",
   "execution_count": 41,
   "id": "b68f7694",
   "metadata": {},
   "outputs": [
    {
     "name": "stdout",
     "output_type": "stream",
     "text": [
      "Fitting 3 folds for each of 120 candidates, totalling 360 fits\n"
     ]
    },
    {
     "data": {
      "text/plain": [
       "GridSearchCV(cv=3, estimator=DecisionTreeClassifier(random_state=7), n_jobs=4,\n",
       "             param_grid={'class_weight': ['balanced'], 'criterion': ['entropy'],\n",
       "                         'max_depth': [4, 7, 10],\n",
       "                         'max_features': ['sqrt', None],\n",
       "                         'min_samples_leaf': [1, 2, 4, 8],\n",
       "                         'min_samples_split': [2, 4, 8, 16, 32]},\n",
       "             scoring='accuracy', verbose=3)"
      ]
     },
     "execution_count": 41,
     "metadata": {},
     "output_type": "execute_result"
    }
   ],
   "source": [
    "clf_dt.fit(x_train, y_train)"
   ]
  },
  {
   "cell_type": "code",
   "execution_count": 42,
   "id": "c12a9063",
   "metadata": {},
   "outputs": [
    {
     "data": {
      "text/plain": [
       "{'class_weight': 'balanced',\n",
       " 'criterion': 'entropy',\n",
       " 'max_depth': 10,\n",
       " 'max_features': None,\n",
       " 'min_samples_leaf': 8,\n",
       " 'min_samples_split': 32}"
      ]
     },
     "execution_count": 42,
     "metadata": {},
     "output_type": "execute_result"
    }
   ],
   "source": [
    "clf_dt.best_params_"
   ]
  },
  {
   "cell_type": "code",
   "execution_count": 43,
   "id": "3d668a61",
   "metadata": {},
   "outputs": [
    {
     "data": {
      "text/plain": [
       "0.8103776261994599"
      ]
     },
     "execution_count": 43,
     "metadata": {},
     "output_type": "execute_result"
    }
   ],
   "source": [
    "clf_dt.best_score_"
   ]
  },
  {
   "cell_type": "code",
   "execution_count": 44,
   "id": "c6d7d942",
   "metadata": {},
   "outputs": [],
   "source": [
    "pred_dt = clf_dt.predict(x_test)"
   ]
  },
  {
   "cell_type": "code",
   "execution_count": 45,
   "id": "f9115af3",
   "metadata": {},
   "outputs": [
    {
     "data": {
      "image/png": "[encoded data removed]",
      "text/plain": [
       "<Figure size 432x288 with 2 Axes>"
      ]
     },
     "metadata": {
      "needs_background": "light"
     },
     "output_type": "display_data"
    }
   ],
   "source": [
    "cm_dt = confusion_matrix(y_test, pred_dt, labels = ['FAKE', 'REAL'])\n",
    "sns.heatmap(cm_dt/ np.sum(cm_dt),fmt='.2%', annot=True, cmap = 'Blues', xticklabels = ['FAKE', 'REAL'], yticklabels = ['FAKE', 'REAL']);\n"
   ]
  },
  {
   "cell_type": "code",
   "execution_count": 46,
   "id": "40c170aa",
   "metadata": {},
   "outputs": [
    {
     "data": {
      "text/html": [
       "<div>\n",
       "<style scoped>\n",
       "    .dataframe tbody tr th:only-of-type {\n",
       "        vertical-align: middle;\n",
       "    }\n",
       "\n",
       "    .dataframe tbody tr th {\n",
       "        vertical-align: top;\n",
       "    }\n",
       "\n",
       "    .dataframe thead th {\n",
       "        text-align: right;\n",
       "    }\n",
       "</style>\n",
       "<table border=\"1\" class=\"dataframe\">\n",
       "  <thead>\n",
       "    <tr style=\"text-align: right;\">\n",
       "      <th></th>\n",
       "      <th>precision</th>\n",
       "      <th>recall</th>\n",
       "      <th>f1-score</th>\n",
       "      <th>support</th>\n",
       "    </tr>\n",
       "  </thead>\n",
       "  <tbody>\n",
       "    <tr>\n",
       "      <th>FAKE</th>\n",
       "      <td>0.819018</td>\n",
       "      <td>0.834375</td>\n",
       "      <td>0.826625</td>\n",
       "      <td>640.000000</td>\n",
       "    </tr>\n",
       "    <tr>\n",
       "      <th>REAL</th>\n",
       "      <td>0.827642</td>\n",
       "      <td>0.811802</td>\n",
       "      <td>0.819646</td>\n",
       "      <td>627.000000</td>\n",
       "    </tr>\n",
       "    <tr>\n",
       "      <th>accuracy</th>\n",
       "      <td>0.823204</td>\n",
       "      <td>0.823204</td>\n",
       "      <td>0.823204</td>\n",
       "      <td>0.823204</td>\n",
       "    </tr>\n",
       "    <tr>\n",
       "      <th>macro avg</th>\n",
       "      <td>0.823330</td>\n",
       "      <td>0.823089</td>\n",
       "      <td>0.823136</td>\n",
       "      <td>1267.000000</td>\n",
       "    </tr>\n",
       "    <tr>\n",
       "      <th>weighted avg</th>\n",
       "      <td>0.823286</td>\n",
       "      <td>0.823204</td>\n",
       "      <td>0.823171</td>\n",
       "      <td>1267.000000</td>\n",
       "    </tr>\n",
       "  </tbody>\n",
       "</table>\n",
       "</div>"
      ],
      "text/plain": [
       "              precision    recall  f1-score      support\n",
       "FAKE           0.819018  0.834375  0.826625   640.000000\n",
       "REAL           0.827642  0.811802  0.819646   627.000000\n",
       "accuracy       0.823204  0.823204  0.823204     0.823204\n",
       "macro avg      0.823330  0.823089  0.823136  1267.000000\n",
       "weighted avg   0.823286  0.823204  0.823171  1267.000000"
      ]
     },
     "execution_count": 46,
     "metadata": {},
     "output_type": "execute_result"
    }
   ],
   "source": [
    "\n",
    "report_dt = classification_report(y_test, pred_dt, labels = ['FAKE','REAL'], output_dict = True)\n",
    "report_dt = pd.DataFrame(report_dt).transpose()\n",
    "report_dt"
   ]
  },
  {
   "cell_type": "markdown",
   "id": "82fad9f2",
   "metadata": {},
   "source": [
    "## 3.5. Random Forest Classifier"
   ]
  },
  {
   "cell_type": "code",
   "execution_count": 47,
   "id": "9cd0c893",
   "metadata": {},
   "outputs": [],
   "source": [
    "params_RF = {'n_estimators' : [400, 1000, 1600], 'criterion' : ['entropy'], 'min_samples_split' : [2, 4, 8, 16], \n",
    "             'min_samples_leaf' : [1,2], 'class_weight' : ['balanced']}  \n",
    "\n",
    "# (min_samples_leaf = 1, min_samples_split = 4 , n_estimators = 1000) give the best result."
   ]
  },
  {
   "cell_type": "code",
   "execution_count": 48,
   "id": "08918944",
   "metadata": {},
   "outputs": [],
   "source": [
    "clf_RF = GridSearchCV(estimator = RandomForestClassifier(oob_score = True, random_state = 7), param_grid = params_RF, \n",
    "                      scoring = 'accuracy', n_jobs = 4, cv = 3, refit = True, verbose = 2)"
   ]
  },
  {
   "cell_type": "code",
   "execution_count": 49,
   "id": "4863501a",
   "metadata": {},
   "outputs": [
    {
     "name": "stdout",
     "output_type": "stream",
     "text": [
      "Fitting 3 folds for each of 24 candidates, totalling 72 fits\n"
     ]
    },
    {
     "data": {
      "text/plain": [
       "GridSearchCV(cv=3,\n",
       "             estimator=RandomForestClassifier(oob_score=True, random_state=7),\n",
       "             n_jobs=4,\n",
       "             param_grid={'class_weight': ['balanced'], 'criterion': ['entropy'],\n",
       "                         'min_samples_leaf': [1, 2],\n",
       "                         'min_samples_split': [2, 4, 8, 16],\n",
       "                         'n_estimators': [400, 1000, 1600]},\n",
       "             scoring='accuracy', verbose=2)"
      ]
     },
     "execution_count": 49,
     "metadata": {},
     "output_type": "execute_result"
    }
   ],
   "source": [
    "clf_RF.fit(x_train,y_train)"
   ]
  },
  {
   "cell_type": "code",
   "execution_count": 50,
   "id": "d08b3b3d",
   "metadata": {},
   "outputs": [
    {
     "data": {
      "text/plain": [
       "{'class_weight': 'balanced',\n",
       " 'criterion': 'entropy',\n",
       " 'min_samples_leaf': 1,\n",
       " 'min_samples_split': 16,\n",
       " 'n_estimators': 1600}"
      ]
     },
     "execution_count": 50,
     "metadata": {},
     "output_type": "execute_result"
    }
   ],
   "source": [
    "clf_RF.best_params_"
   ]
  },
  {
   "cell_type": "code",
   "execution_count": 51,
   "id": "6ce4509e",
   "metadata": {},
   "outputs": [
    {
     "data": {
      "text/plain": [
       "0.9056816178007597"
      ]
     },
     "execution_count": 51,
     "metadata": {},
     "output_type": "execute_result"
    }
   ],
   "source": [
    "clf_RF.best_score_"
   ]
  },
  {
   "cell_type": "code",
   "execution_count": 52,
   "id": "2bb515de",
   "metadata": {},
   "outputs": [],
   "source": [
    "pred_RF = clf_RF.predict(x_test)"
   ]
  },
  {
   "cell_type": "code",
   "execution_count": 53,
   "id": "ba92a92c",
   "metadata": {
    "scrolled": true
   },
   "outputs": [
    {
     "data": {
      "image/png": "[encoded data removed]",
      "text/plain": [
       "<Figure size 432x288 with 2 Axes>"
      ]
     },
     "metadata": {
      "needs_background": "light"
     },
     "output_type": "display_data"
    }
   ],
   "source": [
    "cm_RF = confusion_matrix(y_test, pred_RF, labels = ['FAKE', 'REAL'])\n",
    "sns.heatmap(cm_RF/ np.sum(cm_RF),fmt='.2%', annot=True, cmap = 'Blues', xticklabels = ['FAKE', 'REAL'], yticklabels = ['FAKE', 'REAL']);\n"
   ]
  },
  {
   "cell_type": "code",
   "execution_count": 54,
   "id": "02b679ab",
   "metadata": {},
   "outputs": [
    {
     "data": {
      "text/html": [
       "<div>\n",
       "<style scoped>\n",
       "    .dataframe tbody tr th:only-of-type {\n",
       "        vertical-align: middle;\n",
       "    }\n",
       "\n",
       "    .dataframe tbody tr th {\n",
       "        vertical-align: top;\n",
       "    }\n",
       "\n",
       "    .dataframe thead th {\n",
       "        text-align: right;\n",
       "    }\n",
       "</style>\n",
       "<table border=\"1\" class=\"dataframe\">\n",
       "  <thead>\n",
       "    <tr style=\"text-align: right;\">\n",
       "      <th></th>\n",
       "      <th>precision</th>\n",
       "      <th>recall</th>\n",
       "      <th>f1-score</th>\n",
       "      <th>support</th>\n",
       "    </tr>\n",
       "  </thead>\n",
       "  <tbody>\n",
       "    <tr>\n",
       "      <th>FAKE</th>\n",
       "      <td>0.921011</td>\n",
       "      <td>0.910937</td>\n",
       "      <td>0.915947</td>\n",
       "      <td>640.000000</td>\n",
       "    </tr>\n",
       "    <tr>\n",
       "      <th>REAL</th>\n",
       "      <td>0.910095</td>\n",
       "      <td>0.920255</td>\n",
       "      <td>0.915147</td>\n",
       "      <td>627.000000</td>\n",
       "    </tr>\n",
       "    <tr>\n",
       "      <th>accuracy</th>\n",
       "      <td>0.915549</td>\n",
       "      <td>0.915549</td>\n",
       "      <td>0.915549</td>\n",
       "      <td>0.915549</td>\n",
       "    </tr>\n",
       "    <tr>\n",
       "      <th>macro avg</th>\n",
       "      <td>0.915553</td>\n",
       "      <td>0.915596</td>\n",
       "      <td>0.915547</td>\n",
       "      <td>1267.000000</td>\n",
       "    </tr>\n",
       "    <tr>\n",
       "      <th>weighted avg</th>\n",
       "      <td>0.915609</td>\n",
       "      <td>0.915549</td>\n",
       "      <td>0.915551</td>\n",
       "      <td>1267.000000</td>\n",
       "    </tr>\n",
       "  </tbody>\n",
       "</table>\n",
       "</div>"
      ],
      "text/plain": [
       "              precision    recall  f1-score      support\n",
       "FAKE           0.921011  0.910937  0.915947   640.000000\n",
       "REAL           0.910095  0.920255  0.915147   627.000000\n",
       "accuracy       0.915549  0.915549  0.915549     0.915549\n",
       "macro avg      0.915553  0.915596  0.915547  1267.000000\n",
       "weighted avg   0.915609  0.915549  0.915551  1267.000000"
      ]
     },
     "execution_count": 54,
     "metadata": {},
     "output_type": "execute_result"
    }
   ],
   "source": [
    "\n",
    "report_RF = classification_report(y_test, pred_RF, labels = ['FAKE','REAL'], output_dict = True)\n",
    "report_RF = pd.DataFrame(report_RF).transpose()\n",
    "report_RF"
   ]
  },
  {
   "cell_type": "markdown",
   "id": "9ab3480d",
   "metadata": {},
   "source": [
    "## 3.6. Light Gradient Boosting Method "
   ]
  },
  {
   "cell_type": "code",
   "execution_count": 55,
   "id": "48903014",
   "metadata": {},
   "outputs": [],
   "source": [
    "\n",
    "# Let's just try with n_estimators 3600.\n",
    "params_lgb = {'n_estimators' : [3600], 'learning_rate' : [ 0.1], 'min_child_samples' : [1,2]} \n",
    "# (n_estimators = 3600, learning_rate = 0.1, min_child_samples = 1) perform best."
   ]
  },
  {
   "cell_type": "code",
   "execution_count": 56,
   "id": "40f25da7",
   "metadata": {},
   "outputs": [],
   "source": [
    "clf_lgb = GridSearchCV(estimator = lgb.LGBMClassifier(), param_grid = params_lgb, scoring = 'accuracy', n_jobs = 4,\n",
    "                       cv = 3, refit = True, verbose = 2)"
   ]
  },
  {
   "cell_type": "code",
   "execution_count": 59,
   "id": "596012ee",
   "metadata": {},
   "outputs": [
    {
     "name": "stdout",
     "output_type": "stream",
     "text": [
      "Fitting 3 folds for each of 2 candidates, totalling 6 fits\n"
     ]
    },
    {
     "data": {
      "text/plain": [
       "GridSearchCV(cv=3, estimator=LGBMClassifier(), n_jobs=4,\n",
       "             param_grid={'learning_rate': [0.1], 'min_child_samples': [1, 2],\n",
       "                         'n_estimators': [3600]},\n",
       "             scoring='accuracy', verbose=2)"
      ]
     },
     "execution_count": 59,
     "metadata": {},
     "output_type": "execute_result"
    }
   ],
   "source": [
    "clf_lgb.fit(x_train, y_train)"
   ]
  },
  {
   "cell_type": "code",
   "execution_count": 60,
   "id": "dce40baf",
   "metadata": {},
   "outputs": [
    {
     "data": {
      "text/plain": [
       "{'learning_rate': 0.1, 'min_child_samples': 1, 'n_estimators': 3600}"
      ]
     },
     "execution_count": 60,
     "metadata": {},
     "output_type": "execute_result"
    }
   ],
   "source": [
    "clf_lgb.best_params_"
   ]
  },
  {
   "cell_type": "code",
   "execution_count": 61,
   "id": "6dabb031",
   "metadata": {},
   "outputs": [
    {
     "name": "stdout",
     "output_type": "stream",
     "text": [
      "0.9307422549668759\n"
     ]
    }
   ],
   "source": [
    "print(clf_lgb.best_score_)"
   ]
  },
  {
   "cell_type": "code",
   "execution_count": 62,
   "id": "61b55e92",
   "metadata": {},
   "outputs": [],
   "source": [
    "pred_lgb = clf_lgb.predict(x_test)   \n",
    "\n"
   ]
  },
  {
   "cell_type": "code",
   "execution_count": 63,
   "id": "6b45d2ec",
   "metadata": {},
   "outputs": [
    {
     "data": {
      "image/png": "[encoded data removed]",
      "text/plain": [
       "<Figure size 432x288 with 2 Axes>"
      ]
     },
     "metadata": {
      "needs_background": "light"
     },
     "output_type": "display_data"
    }
   ],
   "source": [
    "cm_lgb = confusion_matrix(y_test, pred_lgb, labels = ['FAKE', 'REAL'])\n",
    "sns.heatmap(cm_lgb/ np.sum(cm_lgb),fmt='.2%', annot=True, cmap = 'Blues', xticklabels = ['FAKE', 'REAL'], yticklabels = ['FAKE', 'REAL']);\n"
   ]
  },
  {
   "cell_type": "code",
   "execution_count": 64,
   "id": "13dd519a",
   "metadata": {
    "scrolled": true
   },
   "outputs": [
    {
     "data": {
      "text/html": [
       "<div>\n",
       "<style scoped>\n",
       "    .dataframe tbody tr th:only-of-type {\n",
       "        vertical-align: middle;\n",
       "    }\n",
       "\n",
       "    .dataframe tbody tr th {\n",
       "        vertical-align: top;\n",
       "    }\n",
       "\n",
       "    .dataframe thead th {\n",
       "        text-align: right;\n",
       "    }\n",
       "</style>\n",
       "<table border=\"1\" class=\"dataframe\">\n",
       "  <thead>\n",
       "    <tr style=\"text-align: right;\">\n",
       "      <th></th>\n",
       "      <th>precision</th>\n",
       "      <th>recall</th>\n",
       "      <th>f1-score</th>\n",
       "      <th>support</th>\n",
       "    </tr>\n",
       "  </thead>\n",
       "  <tbody>\n",
       "    <tr>\n",
       "      <th>FAKE</th>\n",
       "      <td>0.942766</td>\n",
       "      <td>0.926562</td>\n",
       "      <td>0.934594</td>\n",
       "      <td>640.000000</td>\n",
       "    </tr>\n",
       "    <tr>\n",
       "      <th>REAL</th>\n",
       "      <td>0.926332</td>\n",
       "      <td>0.942584</td>\n",
       "      <td>0.934387</td>\n",
       "      <td>627.000000</td>\n",
       "    </tr>\n",
       "    <tr>\n",
       "      <th>accuracy</th>\n",
       "      <td>0.934491</td>\n",
       "      <td>0.934491</td>\n",
       "      <td>0.934491</td>\n",
       "      <td>0.934491</td>\n",
       "    </tr>\n",
       "    <tr>\n",
       "      <th>macro avg</th>\n",
       "      <td>0.934549</td>\n",
       "      <td>0.934573</td>\n",
       "      <td>0.934491</td>\n",
       "      <td>1267.000000</td>\n",
       "    </tr>\n",
       "    <tr>\n",
       "      <th>weighted avg</th>\n",
       "      <td>0.934634</td>\n",
       "      <td>0.934491</td>\n",
       "      <td>0.934492</td>\n",
       "      <td>1267.000000</td>\n",
       "    </tr>\n",
       "  </tbody>\n",
       "</table>\n",
       "</div>"
      ],
      "text/plain": [
       "              precision    recall  f1-score      support\n",
       "FAKE           0.942766  0.926562  0.934594   640.000000\n",
       "REAL           0.926332  0.942584  0.934387   627.000000\n",
       "accuracy       0.934491  0.934491  0.934491     0.934491\n",
       "macro avg      0.934549  0.934573  0.934491  1267.000000\n",
       "weighted avg   0.934634  0.934491  0.934492  1267.000000"
      ]
     },
     "execution_count": 64,
     "metadata": {},
     "output_type": "execute_result"
    }
   ],
   "source": [
    "from sklearn.metrics import classification_report\n",
    "\n",
    "report_lgb = classification_report(y_test, pred_lgb, labels = ['FAKE','REAL'], output_dict = True)\n",
    "report_lgb = pd.DataFrame(report_lgb).transpose()\n",
    "report_lgb"
   ]
  },
  {
   "cell_type": "markdown",
   "id": "09395344",
   "metadata": {},
   "source": [
    "## Summary of  the different Model Performance based on accuracy, precision, recall and f1-score"
   ]
  },
  {
   "cell_type": "code",
   "execution_count": 83,
   "id": "1115ec3c",
   "metadata": {},
   "outputs": [],
   "source": [
    "# for easy ML training the label column will be converted to numeric values, using the replace(), 0 = FAKE AND 1 = REAL\n",
    "\n",
    "news['label'].replace(['FAKE', 'REAL'],\n",
    "                        [0, 1], inplace=True)"
   ]
  },
  {
   "cell_type": "code",
   "execution_count": 85,
   "id": "e2061e33",
   "metadata": {},
   "outputs": [],
   "source": [
    "x_train,x_test,y_train,y_test=train_test_split(news['text'],news['label'],test_size=0.2)\n",
    "\n",
    "tfidf=TfidfVectorizer(stop_words='english',max_df=0.8)\n",
    "x_train=tfidf.fit_transform(x_train)\n",
    "x_test=tfidf.transform(x_test)"
   ]
  },
  {
   "cell_type": "code",
   "execution_count": 87,
   "id": "cb4e0626",
   "metadata": {},
   "outputs": [
    {
     "name": "stdout",
     "output_type": "stream",
     "text": [
      "Fitting 3 folds for each of 5 candidates, totalling 15 fits\n",
      "\n",
      "Fitting 3 folds for each of 6 candidates, totalling 18 fits\n",
      "\n",
      "Fitting 3 folds for each of 120 candidates, totalling 360 fits\n",
      "\n",
      "Fitting 3 folds for each of 24 candidates, totalling 72 fits\n",
      "\n",
      "Fitting 3 folds for each of 2 candidates, totalling 6 fits\n",
      "\n"
     ]
    }
   ],
   "source": [
    "# Initialization, training and testing using the GridSearchcv passed models\n",
    "\n",
    "classifiers = [\n",
    "    [clf_LR, 'Logistic Regression'], [clf_knn, 'K-Nearest Neighbors'], [clf_svc, 'SVC'], [clf_dt, 'Decision Trees'], \n",
    "    [clf_RF, 'Random Forest'], [clf_lgb, 'Light Gradient Boosting']\n",
    "]\n",
    "\n",
    "accuracy_list = {}\n",
    "precision_list = {}\n",
    "recall_list = {}\n",
    "f1_list = {}\n",
    "\n",
    "for classifier in classifiers:\n",
    "    model = classifier[0]\n",
    "    model.fit(x_train, y_train)\n",
    "    model_name = classifier[1]\n",
    "    \n",
    "    pred = model.predict(x_test)\n",
    "    \n",
    "    a_score = accuracy_score(y_test, pred)\n",
    "    p_score = precision_score(y_test, pred)\n",
    "    r_score = recall_score(y_test, pred)\n",
    "    f_score = f1_score(y_test, pred)\n",
    "    \n",
    "    accuracy_list[model_name] = [str(round(a_score*100, 2)) + '%']\n",
    "    precision_list[model_name] = [str(round(p_score*100, 2)) + '%']\n",
    "    recall_list[model_name] = [str(round(r_score*100, 2)) + '%']\n",
    "    f1_list[model_name] = [str(round(f_score*100,2)) + '%']\n",
    "    \n",
    "    if model_name != classifiers[0][1]:\n",
    "        print('')"
   ]
  },
  {
   "cell_type": "code",
   "execution_count": 91,
   "id": "55447a16",
   "metadata": {},
   "outputs": [
    {
     "name": "stdout",
     "output_type": "stream",
     "text": [
      "Accuracy Scores of Models\n"
     ]
    },
    {
     "data": {
      "text/html": [
       "<div>\n",
       "<style scoped>\n",
       "    .dataframe tbody tr th:only-of-type {\n",
       "        vertical-align: middle;\n",
       "    }\n",
       "\n",
       "    .dataframe tbody tr th {\n",
       "        vertical-align: top;\n",
       "    }\n",
       "\n",
       "    .dataframe thead th {\n",
       "        text-align: right;\n",
       "    }\n",
       "</style>\n",
       "<table border=\"1\" class=\"dataframe\">\n",
       "  <thead>\n",
       "    <tr style=\"text-align: right;\">\n",
       "      <th></th>\n",
       "      <th>Logistic Regression</th>\n",
       "      <th>K-Nearest Neighbors</th>\n",
       "      <th>SVC</th>\n",
       "      <th>Decision Trees</th>\n",
       "      <th>Random Forest</th>\n",
       "      <th>Light Gradient Boosting</th>\n",
       "    </tr>\n",
       "  </thead>\n",
       "  <tbody>\n",
       "    <tr>\n",
       "      <th>0</th>\n",
       "      <td>92.27%</td>\n",
       "      <td>60.3%</td>\n",
       "      <td>92.5%</td>\n",
       "      <td>81.45%</td>\n",
       "      <td>91.24%</td>\n",
       "      <td>93.84%</td>\n",
       "    </tr>\n",
       "  </tbody>\n",
       "</table>\n",
       "</div>"
      ],
      "text/plain": [
       "  Logistic Regression K-Nearest Neighbors    SVC Decision Trees Random Forest  \\\n",
       "0              92.27%               60.3%  92.5%         81.45%        91.24%   \n",
       "\n",
       "  Light Gradient Boosting  \n",
       "0                  93.84%  "
      ]
     },
     "execution_count": 91,
     "metadata": {},
     "output_type": "execute_result"
    }
   ],
   "source": [
    "# Print Accuracy, Precision, Recall anf F1 Scores for each Model \n",
    "\n",
    "print(\"Accuracy Scores of Models\")\n",
    "report1 = pd.DataFrame(accuracy_list)\n",
    "report1.head()"
   ]
  },
  {
   "cell_type": "code",
   "execution_count": 92,
   "id": "98ca2624",
   "metadata": {},
   "outputs": [
    {
     "name": "stdout",
     "output_type": "stream",
     "text": [
      "Precision Scores of Models\n"
     ]
    },
    {
     "data": {
      "text/html": [
       "<div>\n",
       "<style scoped>\n",
       "    .dataframe tbody tr th:only-of-type {\n",
       "        vertical-align: middle;\n",
       "    }\n",
       "\n",
       "    .dataframe tbody tr th {\n",
       "        vertical-align: top;\n",
       "    }\n",
       "\n",
       "    .dataframe thead th {\n",
       "        text-align: right;\n",
       "    }\n",
       "</style>\n",
       "<table border=\"1\" class=\"dataframe\">\n",
       "  <thead>\n",
       "    <tr style=\"text-align: right;\">\n",
       "      <th></th>\n",
       "      <th>Logistic Regression</th>\n",
       "      <th>K-Nearest Neighbors</th>\n",
       "      <th>SVC</th>\n",
       "      <th>Decision Trees</th>\n",
       "      <th>Random Forest</th>\n",
       "      <th>Light Gradient Boosting</th>\n",
       "    </tr>\n",
       "  </thead>\n",
       "  <tbody>\n",
       "    <tr>\n",
       "      <th>0</th>\n",
       "      <td>93.17%</td>\n",
       "      <td>98.46%</td>\n",
       "      <td>94.5%</td>\n",
       "      <td>84.08%</td>\n",
       "      <td>91.77%</td>\n",
       "      <td>94.36%</td>\n",
       "    </tr>\n",
       "  </tbody>\n",
       "</table>\n",
       "</div>"
      ],
      "text/plain": [
       "  Logistic Regression K-Nearest Neighbors    SVC Decision Trees Random Forest  \\\n",
       "0              93.17%              98.46%  94.5%         84.08%        91.77%   \n",
       "\n",
       "  Light Gradient Boosting  \n",
       "0                  94.36%  "
      ]
     },
     "execution_count": 92,
     "metadata": {},
     "output_type": "execute_result"
    }
   ],
   "source": [
    "print(\"Precision Scores of Models\")\n",
    "report2 = pd.DataFrame(precision_list)\n",
    "report2.head()"
   ]
  },
  {
   "cell_type": "code",
   "execution_count": 93,
   "id": "36a7029c",
   "metadata": {},
   "outputs": [
    {
     "name": "stdout",
     "output_type": "stream",
     "text": [
      "Recall Scores of Models\n"
     ]
    },
    {
     "data": {
      "text/html": [
       "<div>\n",
       "<style scoped>\n",
       "    .dataframe tbody tr th:only-of-type {\n",
       "        vertical-align: middle;\n",
       "    }\n",
       "\n",
       "    .dataframe tbody tr th {\n",
       "        vertical-align: top;\n",
       "    }\n",
       "\n",
       "    .dataframe thead th {\n",
       "        text-align: right;\n",
       "    }\n",
       "</style>\n",
       "<table border=\"1\" class=\"dataframe\">\n",
       "  <thead>\n",
       "    <tr style=\"text-align: right;\">\n",
       "      <th></th>\n",
       "      <th>Logistic Regression</th>\n",
       "      <th>K-Nearest Neighbors</th>\n",
       "      <th>SVC</th>\n",
       "      <th>Decision Trees</th>\n",
       "      <th>Random Forest</th>\n",
       "      <th>Light Gradient Boosting</th>\n",
       "    </tr>\n",
       "  </thead>\n",
       "  <tbody>\n",
       "    <tr>\n",
       "      <th>0</th>\n",
       "      <td>91.1%</td>\n",
       "      <td>20.35%</td>\n",
       "      <td>90.14%</td>\n",
       "      <td>77.27%</td>\n",
       "      <td>90.46%</td>\n",
       "      <td>93.16%</td>\n",
       "    </tr>\n",
       "  </tbody>\n",
       "</table>\n",
       "</div>"
      ],
      "text/plain": [
       "  Logistic Regression K-Nearest Neighbors     SVC Decision Trees  \\\n",
       "0               91.1%              20.35%  90.14%         77.27%   \n",
       "\n",
       "  Random Forest Light Gradient Boosting  \n",
       "0        90.46%                  93.16%  "
      ]
     },
     "execution_count": 93,
     "metadata": {},
     "output_type": "execute_result"
    }
   ],
   "source": [
    "print(\"Recall Scores of Models\")\n",
    "report3 = pd.DataFrame(recall_list)\n",
    "report3.head()"
   ]
  },
  {
   "cell_type": "code",
   "execution_count": 94,
   "id": "8845e013",
   "metadata": {},
   "outputs": [
    {
     "name": "stdout",
     "output_type": "stream",
     "text": [
      "F1 Scores of Models\n"
     ]
    },
    {
     "data": {
      "text/html": [
       "<div>\n",
       "<style scoped>\n",
       "    .dataframe tbody tr th:only-of-type {\n",
       "        vertical-align: middle;\n",
       "    }\n",
       "\n",
       "    .dataframe tbody tr th {\n",
       "        vertical-align: top;\n",
       "    }\n",
       "\n",
       "    .dataframe thead th {\n",
       "        text-align: right;\n",
       "    }\n",
       "</style>\n",
       "<table border=\"1\" class=\"dataframe\">\n",
       "  <thead>\n",
       "    <tr style=\"text-align: right;\">\n",
       "      <th></th>\n",
       "      <th>Logistic Regression</th>\n",
       "      <th>K-Nearest Neighbors</th>\n",
       "      <th>SVC</th>\n",
       "      <th>Decision Trees</th>\n",
       "      <th>Random Forest</th>\n",
       "      <th>Light Gradient Boosting</th>\n",
       "    </tr>\n",
       "  </thead>\n",
       "  <tbody>\n",
       "    <tr>\n",
       "      <th>0</th>\n",
       "      <td>92.12%</td>\n",
       "      <td>33.73%</td>\n",
       "      <td>92.27%</td>\n",
       "      <td>80.53%</td>\n",
       "      <td>91.11%</td>\n",
       "      <td>93.76%</td>\n",
       "    </tr>\n",
       "  </tbody>\n",
       "</table>\n",
       "</div>"
      ],
      "text/plain": [
       "  Logistic Regression K-Nearest Neighbors     SVC Decision Trees  \\\n",
       "0              92.12%              33.73%  92.27%         80.53%   \n",
       "\n",
       "  Random Forest Light Gradient Boosting  \n",
       "0        91.11%                  93.76%  "
      ]
     },
     "execution_count": 94,
     "metadata": {},
     "output_type": "execute_result"
    }
   ],
   "source": [
    "print(\"F1 Scores of Models\")\n",
    "report4 = pd.DataFrame(f1_list)\n",
    "report4.head()"
   ]
  },
  {
   "cell_type": "markdown",
   "id": "677b4bb9",
   "metadata": {},
   "source": [
    "### Visualization of the Evaluation Metrics"
   ]
  },
  {
   "cell_type": "code",
   "execution_count": 138,
   "id": "4147e9a9",
   "metadata": {},
   "outputs": [
    {
     "data": {
      "image/png": "[encoded data removed]",
      "text/plain": [
       "<Figure size 1080x360 with 1 Axes>"
      ]
     },
     "metadata": {
      "needs_background": "light"
     },
     "output_type": "display_data"
    }
   ],
   "source": [
    "# Accuracy Score\n",
    "\n",
    "a_d = [['Logistic Regression',92.27],['K-Nearest Neighbors',60.3],['SVC',92.5],['Decision Trees',81.45], \n",
    "     ['Random Forest',91.24], ['Light Gradient Boosting', 93.84]]\n",
    "\n",
    "a_plt = pd.DataFrame(a_d, columns=['Models','Accuracy_Score'])\n",
    "\n",
    "\n",
    "plt.figure(figsize=(15,5))\n",
    "ax = sns.barplot(x='Models', y= 'Accuracy_Score', data = a_plt)\n",
    "values = a_plt['Accuracy_Score'].values\n",
    "ax.bar_label(container = ax.containers[0], labels=values)\n",
    "plt.title(\"Accuracy Scores of Models\")\n",
    "plt.xlabel(\"Models\")\n",
    "plt.ylabel(\"Accuracy_Score(%)\");"
   ]
  },
  {
   "cell_type": "code",
   "execution_count": 137,
   "id": "07e73059",
   "metadata": {},
   "outputs": [
    {
     "data": {
      "image/png": "[encoded data removed]",
      "text/plain": [
       "<Figure size 1080x360 with 1 Axes>"
      ]
     },
     "metadata": {
      "needs_background": "light"
     },
     "output_type": "display_data"
    }
   ],
   "source": [
    "# Precision Score\n",
    "\n",
    "p_d = [['Logistic Regression',93.17],['K-Nearest Neighbors',98.46],['SVC',94.5],['Decision Trees',84.08], \n",
    "     ['Random Forest',91.77], ['Light Gradient Boosting', 94.36]]\n",
    "\n",
    "p_plt = pd.DataFrame(p_d, columns=['Models','Precision_Score'])\n",
    "\n",
    "\n",
    "plt.figure(figsize=(15,5))\n",
    "ax = sns.barplot(x='Models', y= 'Precision_Score', data = p_plt)\n",
    "values = p_plt['Precision_Score'].values\n",
    "ax.bar_label(container = ax.containers[0], labels=values)\n",
    "plt.title(\"Precision Scores of Models\")\n",
    "plt.xlabel(\"Models\")\n",
    "plt.ylabel(\"Precision_Score(%)\");"
   ]
  },
  {
   "cell_type": "code",
   "execution_count": 136,
   "id": "806029a1",
   "metadata": {},
   "outputs": [
    {
     "data": {
      "image/png": "[encoded data removed]",
      "text/plain": [
       "<Figure size 1080x360 with 1 Axes>"
      ]
     },
     "metadata": {
      "needs_background": "light"
     },
     "output_type": "display_data"
    }
   ],
   "source": [
    "# Recall Score\n",
    "\n",
    "r_d = [['Logistic Regression',91.1],['K-Nearest Neighbors',20.35],['SVC',90.14],['Decision Trees',77.27], \n",
    "     ['Random Forest',90.46], ['Light Gradient Boosting', 93.16]]\n",
    "\n",
    "r_plt = pd.DataFrame(r_d, columns=['Models','Recall_Score'])\n",
    "\n",
    "\n",
    "plt.figure(figsize=(15,5))\n",
    "ax = sns.barplot(x='Models', y= 'Recall_Score', data = r_plt)\n",
    "values = r_plt['Recall_Score'].values\n",
    "ax.bar_label(container = ax.containers[0], labels=values)\n",
    "plt.title(\"Recall Scores of Models\")\n",
    "plt.xlabel(\"Models\")\n",
    "plt.ylabel(\"Recall_Score(%)\");"
   ]
  },
  {
   "cell_type": "code",
   "execution_count": 135,
   "id": "24bf7e90",
   "metadata": {},
   "outputs": [
    {
     "data": {
      "image/png": "[encoded data removed]",
      "text/plain": [
       "<Figure size 1080x360 with 1 Axes>"
      ]
     },
     "metadata": {
      "needs_background": "light"
     },
     "output_type": "display_data"
    }
   ],
   "source": [
    "# F1 Score\n",
    "\n",
    "f1_d = [['Logistic Regression',92.12],['K-Nearest Neighbors',33.73],['SVC',92.27],['Decision Trees',80.53], \n",
    "     ['Random Forest',91.11], ['Light Gradient Boosting', 93.76]]\n",
    "\n",
    "f1_plt = pd.DataFrame(f1_d, columns=['Models','F1_Score'])\n",
    "\n",
    "\n",
    "plt.figure(figsize=(15,5))\n",
    "ax = sns.barplot(x='Models', y= 'F1_Score', data = f1_plt)\n",
    "values = f1_plt['F1_Score'].values\n",
    "ax.bar_label(container = ax.containers[0], labels=values)\n",
    "plt.title(\"F1 Scores of Models\")\n",
    "plt.xlabel(\"Models\")\n",
    "plt.ylabel(\"F1_Score(%)\");\n"
   ]
  },
  {
   "cell_type": "markdown",
   "id": "3d9c055e",
   "metadata": {},
   "source": [
    "##  Conclusion"
   ]
  },
  {
   "cell_type": "markdown",
   "id": "2d56095d",
   "metadata": {},
   "source": [
    "For this classification project, 6 ML Algorithms (Light Gradient Boosting, Decision Tree, K-Nearest Neighbors, RandomForestClassifier, SVC, and LogisticRegression) were trained and tested with the news dataset, using the the evaluation metrics - Accuracy, Precision, Recall and F1. It's observed that some models did better than some with respect to the different metrics. For this project, the evaluation metric used for the basis of model's best performance is Accuracy (evaluating the overall performance of the model in correctly classifying Fake and Real News), and F1_Score (combining precision and recall using their harmonic mean - how well the models predicts negative / positive values).\n",
    "\n",
    "The model Light Gradient Boosting performed best judging from both F1_score and Accuracy, with F1_score of 93.76% and Accuracy Score of 93.84%, followed by SVC with F1_score of 92.27% and Accuracy Score of 92.50%. \n",
    "\n",
    "It is recommended that this model(s) be deployed for the detection and control of Fake News."
   ]
  },
  {
   "cell_type": "code",
   "execution_count": null,
   "id": "c8342636",
   "metadata": {},
   "outputs": [],
   "source": []
  }
 ],
 "metadata": {
  "kernelspec": {
   "display_name": "Python 3 (ipykernel)",
   "language": "python",
   "name": "python3"
  },
  "language_info": {
   "codemirror_mode": {
    "name": "ipython",
    "version": 3
   },
   "file_extension": ".py",
   "mimetype": "text/x-python",
   "name": "python",
   "nbconvert_exporter": "python",
   "pygments_lexer": "ipython3",
   "version": "3.9.12"
  }
 },
 "nbformat": 4,
 "nbformat_minor": 5
}
